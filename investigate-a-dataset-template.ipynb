{
 "cells": [
  {
   "cell_type": "markdown",
   "metadata": {},
   "source": [
    "# Project: TMDb Movie Dataset (What makes a good movie)\n",
    "\n",
    "## Table of Contents\n",
    "<ul>\n",
    "<li><a href=\"#intro\">Introduction</a></li>\n",
    "<li><a href=\"#wrangling\">Data Wrangling</a></li>\n",
    "<li><a href=\"#eda\">Exploratory Data Analysis</a></li>\n",
    "<li><a href=\"#conclusions\">Conclusions</a></li>\n",
    "</ul>"
   ]
  },
  {
   "cell_type": "markdown",
   "metadata": {},
   "source": [
    "<a id='intro'></a>\n",
    "## Introduction"
   ]
  },
  {
   "cell_type": "markdown",
   "metadata": {},
   "source": [
    "The selected database includes information about 10,000 movies collected from \"The Movie Database\" (TMDb). The purpose of this project is to find the most strongly correlated independent variables to movie success (which is represented here as **movie revenue, vote_average and popularity**).\n",
    "\n",
    "Popularity is a metric referring to how relevant the movie was at the time of extraction of the data. It's built upon number of movie votes, views, times marked as 'favorite' by users, times added to watchlist by users, ...etc per day.\n",
    "\n",
    "Original data can be found at this kaggle link: \"https://www.kaggle.com/tmdb/tmdb-movie-metadata\"."
   ]
  },
  {
   "cell_type": "code",
   "execution_count": 2,
   "metadata": {},
   "outputs": [],
   "source": [
    "# Use this cell to set up import statements for all of the packages that you\n",
    "#   plan to use.\n",
    "import pandas as pd\n",
    "import numpy as np\n",
    "import seaborn as sns\n",
    "import matplotlib.pyplot as plt\n",
    "%matplotlib inline"
   ]
  },
  {
   "cell_type": "markdown",
   "metadata": {},
   "source": [
    "<a id='wrangling'></a>\n",
    "## Data Wrangling\n",
    "\n",
    "\n",
    "### General Properties"
   ]
  },
  {
   "cell_type": "code",
   "execution_count": 3,
   "metadata": {},
   "outputs": [
    {
     "data": {
      "text/html": [
       "<div>\n",
       "<style scoped>\n",
       "    .dataframe tbody tr th:only-of-type {\n",
       "        vertical-align: middle;\n",
       "    }\n",
       "\n",
       "    .dataframe tbody tr th {\n",
       "        vertical-align: top;\n",
       "    }\n",
       "\n",
       "    .dataframe thead th {\n",
       "        text-align: right;\n",
       "    }\n",
       "</style>\n",
       "<table border=\"1\" class=\"dataframe\">\n",
       "  <thead>\n",
       "    <tr style=\"text-align: right;\">\n",
       "      <th></th>\n",
       "      <th>id</th>\n",
       "      <th>imdb_id</th>\n",
       "      <th>popularity</th>\n",
       "      <th>budget</th>\n",
       "      <th>revenue</th>\n",
       "      <th>original_title</th>\n",
       "      <th>cast</th>\n",
       "      <th>homepage</th>\n",
       "      <th>director</th>\n",
       "      <th>tagline</th>\n",
       "      <th>...</th>\n",
       "      <th>overview</th>\n",
       "      <th>runtime</th>\n",
       "      <th>genres</th>\n",
       "      <th>production_companies</th>\n",
       "      <th>release_date</th>\n",
       "      <th>vote_count</th>\n",
       "      <th>vote_average</th>\n",
       "      <th>release_year</th>\n",
       "      <th>budget_adj</th>\n",
       "      <th>revenue_adj</th>\n",
       "    </tr>\n",
       "  </thead>\n",
       "  <tbody>\n",
       "    <tr>\n",
       "      <th>0</th>\n",
       "      <td>135397</td>\n",
       "      <td>tt0369610</td>\n",
       "      <td>32.985763</td>\n",
       "      <td>150000000</td>\n",
       "      <td>1513528810</td>\n",
       "      <td>Jurassic World</td>\n",
       "      <td>Chris Pratt|Bryce Dallas Howard|Irrfan Khan|Vi...</td>\n",
       "      <td>http://www.jurassicworld.com/</td>\n",
       "      <td>Colin Trevorrow</td>\n",
       "      <td>The park is open.</td>\n",
       "      <td>...</td>\n",
       "      <td>Twenty-two years after the events of Jurassic ...</td>\n",
       "      <td>124</td>\n",
       "      <td>Action|Adventure|Science Fiction|Thriller</td>\n",
       "      <td>Universal Studios|Amblin Entertainment|Legenda...</td>\n",
       "      <td>6/9/15</td>\n",
       "      <td>5562</td>\n",
       "      <td>6.5</td>\n",
       "      <td>2015</td>\n",
       "      <td>1.379999e+08</td>\n",
       "      <td>1.392446e+09</td>\n",
       "    </tr>\n",
       "    <tr>\n",
       "      <th>1</th>\n",
       "      <td>76341</td>\n",
       "      <td>tt1392190</td>\n",
       "      <td>28.419936</td>\n",
       "      <td>150000000</td>\n",
       "      <td>378436354</td>\n",
       "      <td>Mad Max: Fury Road</td>\n",
       "      <td>Tom Hardy|Charlize Theron|Hugh Keays-Byrne|Nic...</td>\n",
       "      <td>http://www.madmaxmovie.com/</td>\n",
       "      <td>George Miller</td>\n",
       "      <td>What a Lovely Day.</td>\n",
       "      <td>...</td>\n",
       "      <td>An apocalyptic story set in the furthest reach...</td>\n",
       "      <td>120</td>\n",
       "      <td>Action|Adventure|Science Fiction|Thriller</td>\n",
       "      <td>Village Roadshow Pictures|Kennedy Miller Produ...</td>\n",
       "      <td>5/13/15</td>\n",
       "      <td>6185</td>\n",
       "      <td>7.1</td>\n",
       "      <td>2015</td>\n",
       "      <td>1.379999e+08</td>\n",
       "      <td>3.481613e+08</td>\n",
       "    </tr>\n",
       "  </tbody>\n",
       "</table>\n",
       "<p>2 rows × 21 columns</p>\n",
       "</div>"
      ],
      "text/plain": [
       "       id    imdb_id  popularity     budget     revenue      original_title  \\\n",
       "0  135397  tt0369610   32.985763  150000000  1513528810      Jurassic World   \n",
       "1   76341  tt1392190   28.419936  150000000   378436354  Mad Max: Fury Road   \n",
       "\n",
       "                                                cast  \\\n",
       "0  Chris Pratt|Bryce Dallas Howard|Irrfan Khan|Vi...   \n",
       "1  Tom Hardy|Charlize Theron|Hugh Keays-Byrne|Nic...   \n",
       "\n",
       "                        homepage         director             tagline  ...  \\\n",
       "0  http://www.jurassicworld.com/  Colin Trevorrow   The park is open.  ...   \n",
       "1    http://www.madmaxmovie.com/    George Miller  What a Lovely Day.  ...   \n",
       "\n",
       "                                            overview runtime  \\\n",
       "0  Twenty-two years after the events of Jurassic ...     124   \n",
       "1  An apocalyptic story set in the furthest reach...     120   \n",
       "\n",
       "                                      genres  \\\n",
       "0  Action|Adventure|Science Fiction|Thriller   \n",
       "1  Action|Adventure|Science Fiction|Thriller   \n",
       "\n",
       "                                production_companies release_date vote_count  \\\n",
       "0  Universal Studios|Amblin Entertainment|Legenda...       6/9/15       5562   \n",
       "1  Village Roadshow Pictures|Kennedy Miller Produ...      5/13/15       6185   \n",
       "\n",
       "   vote_average  release_year    budget_adj   revenue_adj  \n",
       "0           6.5          2015  1.379999e+08  1.392446e+09  \n",
       "1           7.1          2015  1.379999e+08  3.481613e+08  \n",
       "\n",
       "[2 rows x 21 columns]"
      ]
     },
     "execution_count": 3,
     "metadata": {},
     "output_type": "execute_result"
    }
   ],
   "source": [
    "# Load your data and print out a few lines. Perform operations to inspect data\n",
    "#   types and look for instances of missing or possibly errant data.\n",
    "df = pd.read_csv('tmdb-movies.csv')\n",
    "\n",
    "df.head(2)"
   ]
  },
  {
   "cell_type": "markdown",
   "metadata": {},
   "source": [
    "Taking the first 2 rows of the dataset, it can be seen that there are quite a few columns in this dataset. Due to the difficulty in (or lack of) finding correlation between string-based columns like original_title and homepage, we'll focus on the more numeric columns first for our analysis."
   ]
  },
  {
   "cell_type": "code",
   "execution_count": 6,
   "metadata": {},
   "outputs": [
    {
     "data": {
      "text/html": [
       "<div>\n",
       "<style scoped>\n",
       "    .dataframe tbody tr th:only-of-type {\n",
       "        vertical-align: middle;\n",
       "    }\n",
       "\n",
       "    .dataframe tbody tr th {\n",
       "        vertical-align: top;\n",
       "    }\n",
       "\n",
       "    .dataframe thead th {\n",
       "        text-align: right;\n",
       "    }\n",
       "</style>\n",
       "<table border=\"1\" class=\"dataframe\">\n",
       "  <thead>\n",
       "    <tr style=\"text-align: right;\">\n",
       "      <th></th>\n",
       "      <th>id</th>\n",
       "      <th>popularity</th>\n",
       "      <th>budget</th>\n",
       "      <th>revenue</th>\n",
       "      <th>runtime</th>\n",
       "      <th>vote_count</th>\n",
       "      <th>vote_average</th>\n",
       "      <th>release_year</th>\n",
       "      <th>budget_adj</th>\n",
       "      <th>revenue_adj</th>\n",
       "    </tr>\n",
       "  </thead>\n",
       "  <tbody>\n",
       "    <tr>\n",
       "      <th>count</th>\n",
       "      <td>10866.000000</td>\n",
       "      <td>10866.000000</td>\n",
       "      <td>1.086600e+04</td>\n",
       "      <td>1.086600e+04</td>\n",
       "      <td>10866.000000</td>\n",
       "      <td>10866.000000</td>\n",
       "      <td>10866.000000</td>\n",
       "      <td>10866.000000</td>\n",
       "      <td>1.086600e+04</td>\n",
       "      <td>1.086600e+04</td>\n",
       "    </tr>\n",
       "    <tr>\n",
       "      <th>mean</th>\n",
       "      <td>66064.177434</td>\n",
       "      <td>0.646441</td>\n",
       "      <td>1.462570e+07</td>\n",
       "      <td>3.982332e+07</td>\n",
       "      <td>102.070863</td>\n",
       "      <td>217.389748</td>\n",
       "      <td>5.974922</td>\n",
       "      <td>2001.322658</td>\n",
       "      <td>1.755104e+07</td>\n",
       "      <td>5.136436e+07</td>\n",
       "    </tr>\n",
       "    <tr>\n",
       "      <th>std</th>\n",
       "      <td>92130.136561</td>\n",
       "      <td>1.000185</td>\n",
       "      <td>3.091321e+07</td>\n",
       "      <td>1.170035e+08</td>\n",
       "      <td>31.381405</td>\n",
       "      <td>575.619058</td>\n",
       "      <td>0.935142</td>\n",
       "      <td>12.812941</td>\n",
       "      <td>3.430616e+07</td>\n",
       "      <td>1.446325e+08</td>\n",
       "    </tr>\n",
       "    <tr>\n",
       "      <th>min</th>\n",
       "      <td>5.000000</td>\n",
       "      <td>0.000065</td>\n",
       "      <td>0.000000e+00</td>\n",
       "      <td>0.000000e+00</td>\n",
       "      <td>0.000000</td>\n",
       "      <td>10.000000</td>\n",
       "      <td>1.500000</td>\n",
       "      <td>1960.000000</td>\n",
       "      <td>0.000000e+00</td>\n",
       "      <td>0.000000e+00</td>\n",
       "    </tr>\n",
       "    <tr>\n",
       "      <th>25%</th>\n",
       "      <td>10596.250000</td>\n",
       "      <td>0.207583</td>\n",
       "      <td>0.000000e+00</td>\n",
       "      <td>0.000000e+00</td>\n",
       "      <td>90.000000</td>\n",
       "      <td>17.000000</td>\n",
       "      <td>5.400000</td>\n",
       "      <td>1995.000000</td>\n",
       "      <td>0.000000e+00</td>\n",
       "      <td>0.000000e+00</td>\n",
       "    </tr>\n",
       "    <tr>\n",
       "      <th>50%</th>\n",
       "      <td>20669.000000</td>\n",
       "      <td>0.383856</td>\n",
       "      <td>0.000000e+00</td>\n",
       "      <td>0.000000e+00</td>\n",
       "      <td>99.000000</td>\n",
       "      <td>38.000000</td>\n",
       "      <td>6.000000</td>\n",
       "      <td>2006.000000</td>\n",
       "      <td>0.000000e+00</td>\n",
       "      <td>0.000000e+00</td>\n",
       "    </tr>\n",
       "    <tr>\n",
       "      <th>75%</th>\n",
       "      <td>75610.000000</td>\n",
       "      <td>0.713817</td>\n",
       "      <td>1.500000e+07</td>\n",
       "      <td>2.400000e+07</td>\n",
       "      <td>111.000000</td>\n",
       "      <td>145.750000</td>\n",
       "      <td>6.600000</td>\n",
       "      <td>2011.000000</td>\n",
       "      <td>2.085325e+07</td>\n",
       "      <td>3.369710e+07</td>\n",
       "    </tr>\n",
       "    <tr>\n",
       "      <th>max</th>\n",
       "      <td>417859.000000</td>\n",
       "      <td>32.985763</td>\n",
       "      <td>4.250000e+08</td>\n",
       "      <td>2.781506e+09</td>\n",
       "      <td>900.000000</td>\n",
       "      <td>9767.000000</td>\n",
       "      <td>9.200000</td>\n",
       "      <td>2015.000000</td>\n",
       "      <td>4.250000e+08</td>\n",
       "      <td>2.827124e+09</td>\n",
       "    </tr>\n",
       "  </tbody>\n",
       "</table>\n",
       "</div>"
      ],
      "text/plain": [
       "                  id    popularity        budget       revenue       runtime  \\\n",
       "count   10866.000000  10866.000000  1.086600e+04  1.086600e+04  10866.000000   \n",
       "mean    66064.177434      0.646441  1.462570e+07  3.982332e+07    102.070863   \n",
       "std     92130.136561      1.000185  3.091321e+07  1.170035e+08     31.381405   \n",
       "min         5.000000      0.000065  0.000000e+00  0.000000e+00      0.000000   \n",
       "25%     10596.250000      0.207583  0.000000e+00  0.000000e+00     90.000000   \n",
       "50%     20669.000000      0.383856  0.000000e+00  0.000000e+00     99.000000   \n",
       "75%     75610.000000      0.713817  1.500000e+07  2.400000e+07    111.000000   \n",
       "max    417859.000000     32.985763  4.250000e+08  2.781506e+09    900.000000   \n",
       "\n",
       "         vote_count  vote_average  release_year    budget_adj   revenue_adj  \n",
       "count  10866.000000  10866.000000  10866.000000  1.086600e+04  1.086600e+04  \n",
       "mean     217.389748      5.974922   2001.322658  1.755104e+07  5.136436e+07  \n",
       "std      575.619058      0.935142     12.812941  3.430616e+07  1.446325e+08  \n",
       "min       10.000000      1.500000   1960.000000  0.000000e+00  0.000000e+00  \n",
       "25%       17.000000      5.400000   1995.000000  0.000000e+00  0.000000e+00  \n",
       "50%       38.000000      6.000000   2006.000000  0.000000e+00  0.000000e+00  \n",
       "75%      145.750000      6.600000   2011.000000  2.085325e+07  3.369710e+07  \n",
       "max     9767.000000      9.200000   2015.000000  4.250000e+08  2.827124e+09  "
      ]
     },
     "execution_count": 6,
     "metadata": {},
     "output_type": "execute_result"
    }
   ],
   "source": [
    "df.describe()"
   ]
  },
  {
   "cell_type": "code",
   "execution_count": 7,
   "metadata": {},
   "outputs": [
    {
     "data": {
      "text/plain": [
       "(10866, 21)"
      ]
     },
     "execution_count": 7,
     "metadata": {},
     "output_type": "execute_result"
    }
   ],
   "source": [
    "df.shape"
   ]
  },
  {
   "cell_type": "markdown",
   "metadata": {},
   "source": [
    "We have a total of 10866 entries and it seems like among the numeric columns, data seems to be complete and free of missing values."
   ]
  },
  {
   "cell_type": "code",
   "execution_count": 9,
   "metadata": {},
   "outputs": [
    {
     "name": "stdout",
     "output_type": "stream",
     "text": [
      "<class 'pandas.core.frame.DataFrame'>\n",
      "RangeIndex: 10866 entries, 0 to 10865\n",
      "Data columns (total 21 columns):\n",
      " #   Column                Non-Null Count  Dtype  \n",
      "---  ------                --------------  -----  \n",
      " 0   id                    10866 non-null  int64  \n",
      " 1   imdb_id               10856 non-null  object \n",
      " 2   popularity            10866 non-null  float64\n",
      " 3   budget                10866 non-null  int64  \n",
      " 4   revenue               10866 non-null  int64  \n",
      " 5   original_title        10866 non-null  object \n",
      " 6   cast                  10790 non-null  object \n",
      " 7   homepage              2936 non-null   object \n",
      " 8   director              10822 non-null  object \n",
      " 9   tagline               8042 non-null   object \n",
      " 10  keywords              9373 non-null   object \n",
      " 11  overview              10862 non-null  object \n",
      " 12  runtime               10866 non-null  int64  \n",
      " 13  genres                10843 non-null  object \n",
      " 14  production_companies  9836 non-null   object \n",
      " 15  release_date          10866 non-null  object \n",
      " 16  vote_count            10866 non-null  int64  \n",
      " 17  vote_average          10866 non-null  float64\n",
      " 18  release_year          10866 non-null  int64  \n",
      " 19  budget_adj            10866 non-null  float64\n",
      " 20  revenue_adj           10866 non-null  float64\n",
      "dtypes: float64(4), int64(6), object(11)\n",
      "memory usage: 1.7+ MB\n"
     ]
    }
   ],
   "source": [
    "df.info();"
   ]
  },
  {
   "cell_type": "markdown",
   "metadata": {},
   "source": [
    "Regarding the string-based columns, it seems we are missing:\n",
    "1. (10866-10856) = 10 imdb_id entries\n",
    "2. (10866-10790) = 76 cast entries\n",
    "3. (10866-2936) = 7930 homepage entries\n",
    "4. (10866-10822) = 44 director entries\n",
    "5. (10866-8042) = 2824 tagline entries\n",
    "6. (10866-9373) = 1493 keywords entries\n",
    "7. (10866-10862) = 4 overview entries\n",
    "8. (10866-10843) = 23 genres entries\n",
    "9. (10866-9836) = 1030 production_companies entries"
   ]
  },
  {
   "cell_type": "markdown",
   "metadata": {},
   "source": [
    "Given this information, I think it's best to drop a few unneeded columns that aren't suited for data analysis:\n",
    "- homepage\n",
    "- tagline\n",
    "- keywords\n",
    "- production_companies\n",
    "\n",
    "They have too many missing records and aren't easily analyzed for correlation due to their values being mostly unique.\n",
    "\n",
    "In addition, we will also drop the 'overview' column because blobs of text aren't useful in this analysis and also the 'imdb_id' and 'id' because they are irrelevant to the movies themselves and are just pointers to the movies.\n",
    "\n",
    "I'm leaving the original_title as the identifier of our rows. It won't be used for analysis but it stays."
   ]
  },
  {
   "cell_type": "code",
   "execution_count": 8,
   "metadata": {},
   "outputs": [],
   "source": [
    "df.drop(['homepage', 'tagline', 'keywords', 'production_companies', 'overview', 'imdb_id', 'id'], axis=1, inplace=True)"
   ]
  },
  {
   "cell_type": "code",
   "execution_count": 9,
   "metadata": {},
   "outputs": [
    {
     "data": {
      "text/html": [
       "<div>\n",
       "<style scoped>\n",
       "    .dataframe tbody tr th:only-of-type {\n",
       "        vertical-align: middle;\n",
       "    }\n",
       "\n",
       "    .dataframe tbody tr th {\n",
       "        vertical-align: top;\n",
       "    }\n",
       "\n",
       "    .dataframe thead th {\n",
       "        text-align: right;\n",
       "    }\n",
       "</style>\n",
       "<table border=\"1\" class=\"dataframe\">\n",
       "  <thead>\n",
       "    <tr style=\"text-align: right;\">\n",
       "      <th></th>\n",
       "      <th>popularity</th>\n",
       "      <th>budget</th>\n",
       "      <th>revenue</th>\n",
       "      <th>original_title</th>\n",
       "      <th>cast</th>\n",
       "      <th>director</th>\n",
       "      <th>runtime</th>\n",
       "      <th>genres</th>\n",
       "      <th>release_date</th>\n",
       "      <th>vote_count</th>\n",
       "      <th>vote_average</th>\n",
       "      <th>release_year</th>\n",
       "      <th>budget_adj</th>\n",
       "      <th>revenue_adj</th>\n",
       "    </tr>\n",
       "  </thead>\n",
       "  <tbody>\n",
       "    <tr>\n",
       "      <th>0</th>\n",
       "      <td>32.985763</td>\n",
       "      <td>150000000</td>\n",
       "      <td>1513528810</td>\n",
       "      <td>Jurassic World</td>\n",
       "      <td>Chris Pratt|Bryce Dallas Howard|Irrfan Khan|Vi...</td>\n",
       "      <td>Colin Trevorrow</td>\n",
       "      <td>124</td>\n",
       "      <td>Action|Adventure|Science Fiction|Thriller</td>\n",
       "      <td>6/9/15</td>\n",
       "      <td>5562</td>\n",
       "      <td>6.5</td>\n",
       "      <td>2015</td>\n",
       "      <td>1.379999e+08</td>\n",
       "      <td>1.392446e+09</td>\n",
       "    </tr>\n",
       "  </tbody>\n",
       "</table>\n",
       "</div>"
      ],
      "text/plain": [
       "   popularity     budget     revenue  original_title  \\\n",
       "0   32.985763  150000000  1513528810  Jurassic World   \n",
       "\n",
       "                                                cast         director  \\\n",
       "0  Chris Pratt|Bryce Dallas Howard|Irrfan Khan|Vi...  Colin Trevorrow   \n",
       "\n",
       "   runtime                                     genres release_date  \\\n",
       "0      124  Action|Adventure|Science Fiction|Thriller       6/9/15   \n",
       "\n",
       "   vote_count  vote_average  release_year    budget_adj   revenue_adj  \n",
       "0        5562           6.5          2015  1.379999e+08  1.392446e+09  "
      ]
     },
     "execution_count": 9,
     "metadata": {},
     "output_type": "execute_result"
    }
   ],
   "source": [
    "df.head(1)"
   ]
  },
  {
   "cell_type": "code",
   "execution_count": 10,
   "metadata": {},
   "outputs": [
    {
     "name": "stdout",
     "output_type": "stream",
     "text": [
      "<class 'pandas.core.frame.DataFrame'>\n",
      "RangeIndex: 10866 entries, 0 to 10865\n",
      "Data columns (total 14 columns):\n",
      " #   Column          Non-Null Count  Dtype  \n",
      "---  ------          --------------  -----  \n",
      " 0   popularity      10866 non-null  float64\n",
      " 1   budget          10866 non-null  int64  \n",
      " 2   revenue         10866 non-null  int64  \n",
      " 3   original_title  10866 non-null  object \n",
      " 4   cast            10790 non-null  object \n",
      " 5   director        10822 non-null  object \n",
      " 6   runtime         10866 non-null  int64  \n",
      " 7   genres          10843 non-null  object \n",
      " 8   release_date    10866 non-null  object \n",
      " 9   vote_count      10866 non-null  int64  \n",
      " 10  vote_average    10866 non-null  float64\n",
      " 11  release_year    10866 non-null  int64  \n",
      " 12  budget_adj      10866 non-null  float64\n",
      " 13  revenue_adj     10866 non-null  float64\n",
      "dtypes: float64(4), int64(5), object(5)\n",
      "memory usage: 1.2+ MB\n"
     ]
    }
   ],
   "source": [
    "df.info()"
   ]
  },
  {
   "cell_type": "markdown",
   "metadata": {},
   "source": [
    "We drop rows with missing values in order to keep our data consistent. After removing the previous columns, our missing data is relatively very little."
   ]
  },
  {
   "cell_type": "code",
   "execution_count": 12,
   "metadata": {},
   "outputs": [
    {
     "name": "stdout",
     "output_type": "stream",
     "text": [
      "<class 'pandas.core.frame.DataFrame'>\n",
      "Int64Index: 10732 entries, 0 to 10865\n",
      "Data columns (total 14 columns):\n",
      " #   Column          Non-Null Count  Dtype  \n",
      "---  ------          --------------  -----  \n",
      " 0   popularity      10732 non-null  float64\n",
      " 1   budget          10732 non-null  int64  \n",
      " 2   revenue         10732 non-null  int64  \n",
      " 3   original_title  10732 non-null  object \n",
      " 4   cast            10732 non-null  object \n",
      " 5   director        10732 non-null  object \n",
      " 6   runtime         10732 non-null  int64  \n",
      " 7   genres          10732 non-null  object \n",
      " 8   release_date    10732 non-null  object \n",
      " 9   vote_count      10732 non-null  int64  \n",
      " 10  vote_average    10732 non-null  float64\n",
      " 11  release_year    10732 non-null  int64  \n",
      " 12  budget_adj      10732 non-null  float64\n",
      " 13  revenue_adj     10732 non-null  float64\n",
      "dtypes: float64(4), int64(5), object(5)\n",
      "memory usage: 1.2+ MB\n"
     ]
    }
   ],
   "source": [
    "df.dropna(inplace=True)\n",
    "df.info()"
   ]
  },
  {
   "cell_type": "markdown",
   "metadata": {},
   "source": [
    "We are left with **10732** entries in total."
   ]
  },
  {
   "cell_type": "markdown",
   "metadata": {},
   "source": [
    "> **Tip**: You should _not_ perform too many operations in each cell. Create cells freely to explore your data. One option that you can take with this project is to do a lot of explorations in an initial notebook. These don't have to be organized, but make sure you use enough comments to understand the purpose of each code cell. Then, after you're done with your analysis, create a duplicate notebook where you will trim the excess and organize your steps so that you have a flowing, cohesive report.\n",
    "\n",
    "> **Tip**: Make sure that you keep your reader informed on the steps that you are taking in your investigation. Follow every code cell, or every set of related code cells, with a markdown cell to describe to the reader what was found in the preceding cell(s). Try to make it so that the reader can then understand what they will be seeing in the following cell(s).\n",
    "\n",
    "## Data Cleaning"
   ]
  },
  {
   "cell_type": "code",
   "execution_count": 13,
   "metadata": {},
   "outputs": [
    {
     "data": {
      "text/html": [
       "<div>\n",
       "<style scoped>\n",
       "    .dataframe tbody tr th:only-of-type {\n",
       "        vertical-align: middle;\n",
       "    }\n",
       "\n",
       "    .dataframe tbody tr th {\n",
       "        vertical-align: top;\n",
       "    }\n",
       "\n",
       "    .dataframe thead th {\n",
       "        text-align: right;\n",
       "    }\n",
       "</style>\n",
       "<table border=\"1\" class=\"dataframe\">\n",
       "  <thead>\n",
       "    <tr style=\"text-align: right;\">\n",
       "      <th></th>\n",
       "      <th>popularity</th>\n",
       "      <th>budget</th>\n",
       "      <th>revenue</th>\n",
       "      <th>original_title</th>\n",
       "      <th>cast</th>\n",
       "      <th>director</th>\n",
       "      <th>runtime</th>\n",
       "      <th>genres</th>\n",
       "      <th>release_date</th>\n",
       "      <th>vote_count</th>\n",
       "      <th>vote_average</th>\n",
       "      <th>release_year</th>\n",
       "      <th>budget_adj</th>\n",
       "      <th>revenue_adj</th>\n",
       "    </tr>\n",
       "  </thead>\n",
       "  <tbody>\n",
       "    <tr>\n",
       "      <th>0</th>\n",
       "      <td>32.985763</td>\n",
       "      <td>150000000</td>\n",
       "      <td>1513528810</td>\n",
       "      <td>Jurassic World</td>\n",
       "      <td>Chris Pratt|Bryce Dallas Howard|Irrfan Khan|Vi...</td>\n",
       "      <td>Colin Trevorrow</td>\n",
       "      <td>124</td>\n",
       "      <td>Action|Adventure|Science Fiction|Thriller</td>\n",
       "      <td>6/9/15</td>\n",
       "      <td>5562</td>\n",
       "      <td>6.5</td>\n",
       "      <td>2015</td>\n",
       "      <td>1.379999e+08</td>\n",
       "      <td>1.392446e+09</td>\n",
       "    </tr>\n",
       "    <tr>\n",
       "      <th>1</th>\n",
       "      <td>28.419936</td>\n",
       "      <td>150000000</td>\n",
       "      <td>378436354</td>\n",
       "      <td>Mad Max: Fury Road</td>\n",
       "      <td>Tom Hardy|Charlize Theron|Hugh Keays-Byrne|Nic...</td>\n",
       "      <td>George Miller</td>\n",
       "      <td>120</td>\n",
       "      <td>Action|Adventure|Science Fiction|Thriller</td>\n",
       "      <td>5/13/15</td>\n",
       "      <td>6185</td>\n",
       "      <td>7.1</td>\n",
       "      <td>2015</td>\n",
       "      <td>1.379999e+08</td>\n",
       "      <td>3.481613e+08</td>\n",
       "    </tr>\n",
       "  </tbody>\n",
       "</table>\n",
       "</div>"
      ],
      "text/plain": [
       "   popularity     budget     revenue      original_title  \\\n",
       "0   32.985763  150000000  1513528810      Jurassic World   \n",
       "1   28.419936  150000000   378436354  Mad Max: Fury Road   \n",
       "\n",
       "                                                cast         director  \\\n",
       "0  Chris Pratt|Bryce Dallas Howard|Irrfan Khan|Vi...  Colin Trevorrow   \n",
       "1  Tom Hardy|Charlize Theron|Hugh Keays-Byrne|Nic...    George Miller   \n",
       "\n",
       "   runtime                                     genres release_date  \\\n",
       "0      124  Action|Adventure|Science Fiction|Thriller       6/9/15   \n",
       "1      120  Action|Adventure|Science Fiction|Thriller      5/13/15   \n",
       "\n",
       "   vote_count  vote_average  release_year    budget_adj   revenue_adj  \n",
       "0        5562           6.5          2015  1.379999e+08  1.392446e+09  \n",
       "1        6185           7.1          2015  1.379999e+08  3.481613e+08  "
      ]
     },
     "execution_count": 13,
     "metadata": {},
     "output_type": "execute_result"
    }
   ],
   "source": [
    "df.head(2)"
   ]
  },
  {
   "cell_type": "code",
   "execution_count": 14,
   "metadata": {},
   "outputs": [
    {
     "data": {
      "text/plain": [
       "popularity        float64\n",
       "budget              int64\n",
       "revenue             int64\n",
       "original_title     object\n",
       "cast               object\n",
       "director           object\n",
       "runtime             int64\n",
       "genres             object\n",
       "release_date       object\n",
       "vote_count          int64\n",
       "vote_average      float64\n",
       "release_year        int64\n",
       "budget_adj        float64\n",
       "revenue_adj       float64\n",
       "dtype: object"
      ]
     },
     "execution_count": 14,
     "metadata": {},
     "output_type": "execute_result"
    }
   ],
   "source": [
    "df.dtypes"
   ]
  },
  {
   "cell_type": "markdown",
   "metadata": {},
   "source": [
    "Looking at our current dataset, we now look to maintain consistency in the columns themselves and put our data into comparable formats.\n",
    "\n",
    "Starting off, we convert our 'release_date' column into datetime for more convenient use."
   ]
  },
  {
   "cell_type": "code",
   "execution_count": 16,
   "metadata": {},
   "outputs": [],
   "source": [
    "df['release_date'] = pd.to_datetime(df['release_date'])"
   ]
  },
  {
   "cell_type": "code",
   "execution_count": 17,
   "metadata": {},
   "outputs": [
    {
     "data": {
      "text/plain": [
       "popularity               float64\n",
       "budget                     int64\n",
       "revenue                    int64\n",
       "original_title            object\n",
       "cast                      object\n",
       "director                  object\n",
       "runtime                    int64\n",
       "genres                    object\n",
       "release_date      datetime64[ns]\n",
       "vote_count                 int64\n",
       "vote_average             float64\n",
       "release_year               int64\n",
       "budget_adj               float64\n",
       "revenue_adj              float64\n",
       "dtype: object"
      ]
     },
     "execution_count": 17,
     "metadata": {},
     "output_type": "execute_result"
    }
   ],
   "source": [
    "df.dtypes"
   ]
  },
  {
   "cell_type": "markdown",
   "metadata": {},
   "source": [
    "Next, I would like to find all the possible genres in the listed movies and put them into a variable to facilitate categorization by genre."
   ]
  },
  {
   "cell_type": "code",
   "execution_count": 18,
   "metadata": {},
   "outputs": [],
   "source": [
    "#available genres\n",
    "av_genres = []"
   ]
  },
  {
   "cell_type": "code",
   "execution_count": 19,
   "metadata": {},
   "outputs": [],
   "source": [
    "for genres_list in df['genres']:\n",
    "    genres = genres_list.split('|')\n",
    "    for genre in genres:\n",
    "        if genre in av_genres:\n",
    "            pass\n",
    "        else:\n",
    "            av_genres.append(genre)"
   ]
  },
  {
   "cell_type": "code",
   "execution_count": 21,
   "metadata": {},
   "outputs": [
    {
     "data": {
      "text/plain": [
       "(['Action',\n",
       "  'Adventure',\n",
       "  'Science Fiction',\n",
       "  'Thriller',\n",
       "  'Fantasy',\n",
       "  'Crime',\n",
       "  'Western',\n",
       "  'Drama',\n",
       "  'Family',\n",
       "  'Animation',\n",
       "  'Comedy',\n",
       "  'Mystery',\n",
       "  'Romance',\n",
       "  'War',\n",
       "  'History',\n",
       "  'Music',\n",
       "  'Horror',\n",
       "  'Documentary',\n",
       "  'TV Movie',\n",
       "  'Foreign'],\n",
       " 20)"
      ]
     },
     "execution_count": 21,
     "metadata": {},
     "output_type": "execute_result"
    }
   ],
   "source": [
    "av_genres, len(av_genres)"
   ]
  },
  {
   "cell_type": "markdown",
   "metadata": {},
   "source": [
    "Seems like we have 20 different genres."
   ]
  },
  {
   "cell_type": "markdown",
   "metadata": {},
   "source": [
    "I noticed in the above describe() that alot of movies have revenues or budgets or both at 0. Since revenue is the main dependant variable in our analysis, this is a big problem.\n",
    "\n",
    "We can't fill in these zero-value rows with the mean and so we are forced to drop them from our dataset."
   ]
  },
  {
   "cell_type": "code",
   "execution_count": 116,
   "metadata": {},
   "outputs": [
    {
     "name": "stdout",
     "output_type": "stream",
     "text": [
      "<class 'pandas.core.frame.DataFrame'>\n",
      "Int64Index: 5888 entries, 48 to 10865\n",
      "Data columns (total 14 columns):\n",
      " #   Column          Non-Null Count  Dtype         \n",
      "---  ------          --------------  -----         \n",
      " 0   popularity      5888 non-null   float64       \n",
      " 1   budget          5888 non-null   int64         \n",
      " 2   revenue         5888 non-null   int64         \n",
      " 3   original_title  5888 non-null   object        \n",
      " 4   cast            5888 non-null   object        \n",
      " 5   director        5888 non-null   object        \n",
      " 6   runtime         5888 non-null   int64         \n",
      " 7   genres          5888 non-null   object        \n",
      " 8   release_date    5888 non-null   datetime64[ns]\n",
      " 9   vote_count      5888 non-null   int64         \n",
      " 10  vote_average    5888 non-null   float64       \n",
      " 11  release_year    5888 non-null   int64         \n",
      " 12  budget_adj      5888 non-null   float64       \n",
      " 13  revenue_adj     5888 non-null   float64       \n",
      "dtypes: datetime64[ns](1), float64(4), int64(5), object(4)\n",
      "memory usage: 690.0+ KB\n"
     ]
    }
   ],
   "source": [
    "df_fail = df.query('revenue == 0')\n",
    "df_fail.info()"
   ]
  },
  {
   "cell_type": "code",
   "execution_count": 118,
   "metadata": {},
   "outputs": [],
   "source": [
    "df.drop(df_fail.index, inplace=True)"
   ]
  },
  {
   "cell_type": "markdown",
   "metadata": {},
   "source": [
    "<a id='eda'></a>\n",
    "## Exploratory Data Analysis\n",
    "\n",
    "\n",
    "### Research Question 1: What are the most common genres? Are certain genres correlated to more success?"
   ]
  },
  {
   "cell_type": "code",
   "execution_count": 119,
   "metadata": {},
   "outputs": [
    {
     "name": "stdout",
     "output_type": "stream",
     "text": [
      "Action 1261\n",
      "Adventure 843\n",
      "Science Fiction 587\n",
      "Thriller 1423\n",
      "Fantasy 461\n",
      "Crime 774\n",
      "Western 65\n",
      "Drama 2272\n",
      "Family 513\n",
      "Animation 237\n",
      "Comedy 1770\n",
      "Mystery 410\n",
      "Romance 876\n",
      "War 137\n",
      "History 153\n",
      "Music 184\n",
      "Horror 561\n",
      "Documentary 97\n",
      "TV Movie 1\n",
      "Foreign 30\n"
     ]
    }
   ],
   "source": [
    "genres_distribution = []\n",
    "for genre in av_genres:\n",
    "    genres_distribution.append(len(df[df.genres.str.contains(genre)]))\n",
    "    print(genre + ' ' + str(len(df[df.genres.str.contains(genre)])))"
   ]
  },
  {
   "cell_type": "code",
   "execution_count": 135,
   "metadata": {},
   "outputs": [
    {
     "data": {
      "text/plain": [
       "Text(0.5, 1.0, 'Number of entries per genre')"
      ]
     },
     "execution_count": 135,
     "metadata": {},
     "output_type": "execute_result"
    },
    {
     "data": {
      "image/png": "[encoded data removed]",
      "text/plain": [
       "<Figure size 1080x504 with 1 Axes>"
      ]
     },
     "metadata": {
      "needs_background": "light"
     },
     "output_type": "display_data"
    }
   ],
   "source": [
    "plt.figure(figsize=(15,7))\n",
    "plt.bar([genre[:4]+'.' for genre in av_genres], genres_distribution, color='red');\n",
    "plt.xlabel('Genres')\n",
    "plt.ylabel('Entries')\n",
    "plt.title('Number of entries per genre')"
   ]
  },
  {
   "cell_type": "markdown",
   "metadata": {},
   "source": [
    "It appears that in this dataset, drama and comedy are the top 2 most common genres. This must be taken into consideration while observing the genre correlation with our success factors (revenue, vote average, popularity)."
   ]
  },
  {
   "cell_type": "code",
   "execution_count": 121,
   "metadata": {},
   "outputs": [
    {
     "name": "stdout",
     "output_type": "stream",
     "text": [
      "Action 137623797.06106263\n",
      "Adventure 197420870.26453143\n",
      "Science Fiction 146854706.68483815\n",
      "Thriller 85246284.95572734\n",
      "Fantasy 191373774.15835142\n",
      "Crime 74119037.29715762\n",
      "Western 72520569.72307692\n",
      "Drama 61238953.21434859\n",
      "Family 173811384.2417154\n",
      "Animation 221957753.1392405\n",
      "Comedy 80410189.9322034\n",
      "Mystery 79454217.06341463\n",
      "Romance 69741617.15068494\n",
      "War 93820434.24087591\n",
      "History 69881953.81699346\n",
      "Music 63351516.70652174\n",
      "Horror 49089015.54010695\n",
      "Documentary 10575912.051546391\n",
      "TV Movie 42000000.0\n",
      "Foreign 9161548.3\n"
     ]
    }
   ],
   "source": [
    "genres_rev_distribution = []\n",
    "for genre in av_genres:\n",
    "    genres_rev_distribution.append(df[df.genres.str.contains(genre)].revenue.mean())\n",
    "    print(genre + ' ' + str(df[df.genres.str.contains(genre)].revenue.mean()))"
   ]
  },
  {
   "cell_type": "code",
   "execution_count": 136,
   "metadata": {},
   "outputs": [
    {
     "data": {
      "text/plain": [
       "Text(0.5, 1.0, 'Revenue Average per genre')"
      ]
     },
     "execution_count": 136,
     "metadata": {},
     "output_type": "execute_result"
    },
    {
     "data": {
      "image/png": "[encoded data removed]",
      "text/plain": [
       "<Figure size 1080x504 with 1 Axes>"
      ]
     },
     "metadata": {
      "needs_background": "light"
     },
     "output_type": "display_data"
    }
   ],
   "source": [
    "plt.figure(figsize=(15,7))\n",
    "plt.bar([genre[:4]+'.' for genre in av_genres], genres_rev_distribution);\n",
    "plt.xlabel('Genres')\n",
    "plt.ylabel('Revenue average')\n",
    "plt.title('Revenue Average per genre')"
   ]
  },
  {
   "cell_type": "markdown",
   "metadata": {},
   "source": [
    "- It seems that although drama and comedy were the 2 most common genres, they actually rank among the least revenue averages. This might be due to over-abundance which leads to people rating them more harshly as they are put up against more competition.\n",
    "- The top 3 revenue averages are for adventure, fantasy and animation which are actually among the least common genres in our dataset. This further strengthens the correlation that abundance of a certain genre in the movie market might actually reduce its overall revenue. The same can be said about family movies as well.\n",
    "- This doesn't however seem to be a perfect relation, as for genres like documentaries, tv movies, and foreign movies, they feature low abundance and also low average revenue but this could be due to the fact that these particular genres have a very limited audience to begin with."
   ]
  },
  {
   "cell_type": "code",
   "execution_count": 123,
   "metadata": {},
   "outputs": [
    {
     "name": "stdout",
     "output_type": "stream",
     "text": [
      "Action 6.010785091197466\n",
      "Adventure 6.114116251482808\n",
      "Science Fiction 6.001362862010222\n",
      "Thriller 6.042094167252283\n",
      "Fantasy 6.019088937093278\n",
      "Crime 6.2657622739018\n",
      "Western 6.400000000000004\n",
      "Drama 6.3547095070422515\n",
      "Family 6.1042884990253405\n",
      "Animation 6.3552742616033715\n",
      "Comedy 6.003107344632771\n",
      "Mystery 6.16780487804878\n",
      "Romance 6.155593607305928\n",
      "War 6.56131386861314\n",
      "History 6.534640522875818\n",
      "Music 6.3538043478260855\n",
      "Horror 5.683957219251337\n",
      "Documentary 6.885567010309278\n",
      "TV Movie 5.6\n",
      "Foreign 6.136666666666667\n"
     ]
    }
   ],
   "source": [
    "genres_vote_distribution = []\n",
    "for genre in av_genres:\n",
    "    genres_vote_distribution.append(df[df.genres.str.contains(genre)].vote_average.mean())\n",
    "    print(genre + ' ' + str(df[df.genres.str.contains(genre)].vote_average.mean()))"
   ]
  },
  {
   "cell_type": "code",
   "execution_count": 138,
   "metadata": {},
   "outputs": [
    {
     "data": {
      "text/plain": [
       "Text(0.5, 1.0, 'Vote average per genre')"
      ]
     },
     "execution_count": 138,
     "metadata": {},
     "output_type": "execute_result"
    },
    {
     "data": {
      "image/png": "[encoded data removed]",
      "text/plain": [
       "<Figure size 1080x504 with 1 Axes>"
      ]
     },
     "metadata": {
      "needs_background": "light"
     },
     "output_type": "display_data"
    }
   ],
   "source": [
    "plt.figure(figsize=(15,7))\n",
    "plt.bar([genre[:4]+'.' for genre in av_genres], genres_vote_distribution, color='orange');\n",
    "plt.xlabel('Genres')\n",
    "plt.ylabel('Vote average')\n",
    "plt.title('Vote average per genre')"
   ]
  },
  {
   "cell_type": "markdown",
   "metadata": {},
   "source": [
    "Concerning vote comparison, it seems like all the genres are mostly very similar with a notable decrease in the horror genre which might be due to the fact that horror movies are much more subject to criticism due to peoples' different fears and such."
   ]
  },
  {
   "cell_type": "code",
   "execution_count": 125,
   "metadata": {},
   "outputs": [
    {
     "name": "stdout",
     "output_type": "stream",
     "text": [
      "Action 1.4150150967486128\n",
      "Adventure 1.7165886761565827\n",
      "Science Fiction 1.7216117359454848\n",
      "Thriller 1.1447633162333082\n",
      "Fantasy 1.5752844837310174\n",
      "Crime 1.029229082687339\n",
      "Western 0.9882723538461535\n",
      "Drama 0.8850365132042245\n",
      "Family 1.2992576374268994\n",
      "Animation 1.546209320675105\n",
      "Comedy 0.8939624836158195\n",
      "Mystery 1.06375889512195\n",
      "Romance 0.8368089212328766\n",
      "War 1.14244299270073\n",
      "History 0.8914388823529412\n",
      "Music 0.7521876413043475\n",
      "Horror 0.7721670392156861\n",
      "Documentary 0.2575771855670103\n",
      "TV Movie 0.27362800000000004\n",
      "Foreign 0.20274413333333333\n"
     ]
    }
   ],
   "source": [
    "genres_pop_distribution = []\n",
    "for genre in av_genres:\n",
    "    genres_pop_distribution.append(df[df.genres.str.contains(genre)].popularity.mean())\n",
    "    print(genre + ' ' + str(df[df.genres.str.contains(genre)].popularity.mean()))"
   ]
  },
  {
   "cell_type": "code",
   "execution_count": 139,
   "metadata": {},
   "outputs": [
    {
     "data": {
      "text/plain": [
       "Text(0.5, 1.0, 'Popularity score average per genre')"
      ]
     },
     "execution_count": 139,
     "metadata": {},
     "output_type": "execute_result"
    },
    {
     "data": {
      "image/png": "[encoded data removed]",
      "text/plain": [
       "<Figure size 1080x504 with 1 Axes>"
      ]
     },
     "metadata": {
      "needs_background": "light"
     },
     "output_type": "display_data"
    }
   ],
   "source": [
    "plt.figure(figsize=(15,7))\n",
    "plt.bar([genre[:4]+'.' for genre in av_genres], genres_pop_distribution, color='pink');\n",
    "plt.xlabel('Genres')\n",
    "plt.ylabel('Popularity score average')\n",
    "plt.title('Popularity score average per genre')"
   ]
  },
  {
   "cell_type": "markdown",
   "metadata": {},
   "source": [
    "Regarding the popularity distribution, there seems to be a correlation with the our revenue plot. Adventure, Fantasy, Animation are very high on the popularity scale as well as family movies; This syncs with our revenue plot quite well which means that popularity seems strongly correlated with revenue which makes sense."
   ]
  },
  {
   "cell_type": "markdown",
   "metadata": {},
   "source": [
    "Another notable comment is that science fiction seems to have a high popularity score while having a below-average revenue average. This might mean that science fiction movies are popular but suffer low revenue due to possibly a higher budget. Let's take a look."
   ]
  },
  {
   "cell_type": "code",
   "execution_count": 208,
   "metadata": {},
   "outputs": [
    {
     "data": {
      "text/plain": [
       "Text(0.5, 1.0, 'Popularity vs Revenue (Outliers removed)')"
      ]
     },
     "execution_count": 208,
     "metadata": {},
     "output_type": "execute_result"
    },
    {
     "data": {
      "image/png": "[encoded data removed]",
      "text/plain": [
       "<Figure size 1080x504 with 1 Axes>"
      ]
     },
     "metadata": {
      "needs_background": "light"
     },
     "output_type": "display_data"
    }
   ],
   "source": [
    "plt.figure(figsize=(15,7))\n",
    "pop_no_outliers = df.popularity[df.popularity.between(df.popularity.quantile(.15), df.popularity.quantile(.85))]\n",
    "rev_no_outliers = df.revenue[df.revenue.between(df.revenue.quantile(.15), df.revenue.quantile(.85))]\n",
    "plt.scatter(pop_no_outliers, rev_no_outliers)\n",
    "plt.xlabel('Population')\n",
    "plt.ylabel('Revenue')\n",
    "plt.title('Popularity vs Revenue (Outliers removed)')"
   ]
  },
  {
   "cell_type": "markdown",
   "metadata": {},
   "source": [
    "There seems to be a slight positive correlation between revenue and popularity however this correlation might seem clearer when grouped by genre."
   ]
  },
  {
   "cell_type": "code",
   "execution_count": 212,
   "metadata": {},
   "outputs": [
    {
     "data": {
      "text/plain": [
       "Text(0.5, 1.0, 'Popularity vs Revenue By Genre (Adventure, Fantasy, Animation)')"
      ]
     },
     "execution_count": 212,
     "metadata": {},
     "output_type": "execute_result"
    },
    {
     "data": {
      "image/png": "[encoded data removed]",
      "text/plain": [
       "<Figure size 1080x504 with 1 Axes>"
      ]
     },
     "metadata": {
      "needs_background": "light"
     },
     "output_type": "display_data"
    }
   ],
   "source": [
    "df_adv = df.query('\"Adventure\" in genres')\n",
    "df_fant = df.query('\"Fantasy\" in genres')\n",
    "df_ani = df.query('\"Animation\" in genres')\n",
    "plt.figure(figsize=(15,7))\n",
    "plt.scatter(df_adv.popularity, df_adv.revenue, label='Adventure')\n",
    "plt.scatter(df_fant.popularity, df_fant.revenue, color='red', label=\"Fantasy\")\n",
    "plt.scatter(df_ani.popularity, df_ani.revenue, color='purple', label=\"Animation\")\n",
    "plt.xlabel('Population')\n",
    "plt.ylabel('Revenue')\n",
    "plt.legend()\n",
    "plt.title('Popularity vs Revenue By Genre (Adventure, Fantasy, Animation)')"
   ]
  },
  {
   "cell_type": "markdown",
   "metadata": {},
   "source": [
    "There does seem to be a slight positive correlation."
   ]
  },
  {
   "cell_type": "code",
   "execution_count": 106,
   "metadata": {},
   "outputs": [
    {
     "name": "stdout",
     "output_type": "stream",
     "text": [
      "Action 27822096.621792175\n",
      "Adventure 37697457.102389075\n",
      "Science Fiction 25140281.803600654\n",
      "Thriller 17240704.714777816\n",
      "Fantasy 32894414.29405286\n",
      "Crime 17685957.697932053\n",
      "Western 19089803.756097563\n",
      "Drama 11916849.926690541\n",
      "Family 23677754.831136737\n",
      "Animation 24376863.167168673\n",
      "Comedy 13358851.374834437\n",
      "Mystery 16159169.246287128\n",
      "Romance 12558171.781615926\n",
      "War 21047795.701492537\n",
      "History 18799100.14242424\n",
      "Music 9631980.050125314\n",
      "Horror 6230335.157701711\n",
      "Documentary 595875.4042553192\n",
      "TV Movie 275925.9259259259\n",
      "Foreign 1442607.4239130435\n"
     ]
    }
   ],
   "source": [
    "genres_budg_distribution = []\n",
    "for genre in av_genres:\n",
    "    genres_budg_distribution.append(df[df.genres.str.contains(genre)].budget.mean())\n",
    "    print(genre + ' ' + str(df[df.genres.str.contains(genre)].budget.mean()))"
   ]
  },
  {
   "cell_type": "code",
   "execution_count": 140,
   "metadata": {},
   "outputs": [
    {
     "data": {
      "text/plain": [
       "Text(0.5, 1.0, 'Budget average per genre')"
      ]
     },
     "execution_count": 140,
     "metadata": {},
     "output_type": "execute_result"
    },
    {
     "data": {
      "image/png": "[encoded data removed]",
      "text/plain": [
       "<Figure size 1080x504 with 1 Axes>"
      ]
     },
     "metadata": {
      "needs_background": "light"
     },
     "output_type": "display_data"
    }
   ],
   "source": [
    "plt.figure(figsize=(15,7))\n",
    "plt.bar([genre[:4]+'.' for genre in av_genres], genres_budg_distribution, color='purple');\n",
    "plt.xlabel('Genres')\n",
    "plt.ylabel('Budget average')\n",
    "plt.title('Budget average per genre')"
   ]
  },
  {
   "cell_type": "markdown",
   "metadata": {},
   "source": [
    "And no it seems like science fiction is actually on the lower end of the budget distribution. Another solution to the previous dilemma is that maybe science fiction is able to maintain popularity because it is attractive to watchers and so it's more clickable over time. As in, the amount of people watching science fiction every day is similar and thus it gains a higher popularity rating (according to how popularity is measured which is mentioned near top of report) despite the low amount of watches in general. It makes up for number of watches by consistency of watches."
   ]
  },
  {
   "cell_type": "markdown",
   "metadata": {},
   "source": [
    "### Research Question 2: What are the characteristics of good movies in regards to runtime, release date/release year?"
   ]
  },
  {
   "cell_type": "markdown",
   "metadata": {
    "collapsed": true
   },
   "source": [
    "Since we will regard revenue as our main success factor. I'll separate our dataset into 2 selections based on revenue median."
   ]
  },
  {
   "cell_type": "code",
   "execution_count": 131,
   "metadata": {},
   "outputs": [
    {
     "name": "stdout",
     "output_type": "stream",
     "text": [
      "31905299.0\n"
     ]
    },
    {
     "data": {
      "text/html": [
       "<div>\n",
       "<style scoped>\n",
       "    .dataframe tbody tr th:only-of-type {\n",
       "        vertical-align: middle;\n",
       "    }\n",
       "\n",
       "    .dataframe tbody tr th {\n",
       "        vertical-align: top;\n",
       "    }\n",
       "\n",
       "    .dataframe thead th {\n",
       "        text-align: right;\n",
       "    }\n",
       "</style>\n",
       "<table border=\"1\" class=\"dataframe\">\n",
       "  <thead>\n",
       "    <tr style=\"text-align: right;\">\n",
       "      <th></th>\n",
       "      <th>popularity</th>\n",
       "      <th>budget</th>\n",
       "      <th>revenue</th>\n",
       "      <th>runtime</th>\n",
       "      <th>vote_count</th>\n",
       "      <th>vote_average</th>\n",
       "      <th>release_year</th>\n",
       "      <th>budget_adj</th>\n",
       "      <th>revenue_adj</th>\n",
       "    </tr>\n",
       "  </thead>\n",
       "  <tbody>\n",
       "    <tr>\n",
       "      <th>count</th>\n",
       "      <td>2422.000000</td>\n",
       "      <td>2.422000e+03</td>\n",
       "      <td>2.422000e+03</td>\n",
       "      <td>2422.000000</td>\n",
       "      <td>2422.000000</td>\n",
       "      <td>2422.000000</td>\n",
       "      <td>2422.000000</td>\n",
       "      <td>2.422000e+03</td>\n",
       "      <td>2.422000e+03</td>\n",
       "    </tr>\n",
       "    <tr>\n",
       "      <th>mean</th>\n",
       "      <td>1.540916</td>\n",
       "      <td>4.874072e+07</td>\n",
       "      <td>1.683704e+08</td>\n",
       "      <td>112.114368</td>\n",
       "      <td>755.953344</td>\n",
       "      <td>6.270851</td>\n",
       "      <td>2001.563584</td>\n",
       "      <td>5.653799e+07</td>\n",
       "      <td>2.135848e+08</td>\n",
       "    </tr>\n",
       "    <tr>\n",
       "      <th>std</th>\n",
       "      <td>1.723572</td>\n",
       "      <td>4.751692e+07</td>\n",
       "      <td>1.999982e+08</td>\n",
       "      <td>23.237805</td>\n",
       "      <td>1025.227287</td>\n",
       "      <td>0.748939</td>\n",
       "      <td>10.845803</td>\n",
       "      <td>4.954636e+07</td>\n",
       "      <td>2.435794e+08</td>\n",
       "    </tr>\n",
       "    <tr>\n",
       "      <th>min</th>\n",
       "      <td>0.010335</td>\n",
       "      <td>0.000000e+00</td>\n",
       "      <td>3.191160e+07</td>\n",
       "      <td>44.000000</td>\n",
       "      <td>10.000000</td>\n",
       "      <td>3.400000</td>\n",
       "      <td>1960.000000</td>\n",
       "      <td>0.000000e+00</td>\n",
       "      <td>2.939349e+07</td>\n",
       "    </tr>\n",
       "    <tr>\n",
       "      <th>25%</th>\n",
       "      <td>0.679039</td>\n",
       "      <td>1.500000e+07</td>\n",
       "      <td>5.521068e+07</td>\n",
       "      <td>98.000000</td>\n",
       "      <td>171.000000</td>\n",
       "      <td>5.800000</td>\n",
       "      <td>1996.000000</td>\n",
       "      <td>2.103337e+07</td>\n",
       "      <td>7.309216e+07</td>\n",
       "    </tr>\n",
       "    <tr>\n",
       "      <th>50%</th>\n",
       "      <td>1.098407</td>\n",
       "      <td>3.500000e+07</td>\n",
       "      <td>1.000000e+08</td>\n",
       "      <td>109.000000</td>\n",
       "      <td>376.500000</td>\n",
       "      <td>6.300000</td>\n",
       "      <td>2004.000000</td>\n",
       "      <td>4.292901e+07</td>\n",
       "      <td>1.295371e+08</td>\n",
       "    </tr>\n",
       "    <tr>\n",
       "      <th>75%</th>\n",
       "      <td>1.809172</td>\n",
       "      <td>6.800000e+07</td>\n",
       "      <td>1.950922e+08</td>\n",
       "      <td>123.000000</td>\n",
       "      <td>878.250000</td>\n",
       "      <td>6.800000</td>\n",
       "      <td>2010.000000</td>\n",
       "      <td>8.000000e+07</td>\n",
       "      <td>2.535754e+08</td>\n",
       "    </tr>\n",
       "    <tr>\n",
       "      <th>max</th>\n",
       "      <td>32.985763</td>\n",
       "      <td>3.800000e+08</td>\n",
       "      <td>2.781506e+09</td>\n",
       "      <td>705.000000</td>\n",
       "      <td>9767.000000</td>\n",
       "      <td>8.300000</td>\n",
       "      <td>2015.000000</td>\n",
       "      <td>3.683713e+08</td>\n",
       "      <td>2.827124e+09</td>\n",
       "    </tr>\n",
       "  </tbody>\n",
       "</table>\n",
       "</div>"
      ],
      "text/plain": [
       "        popularity        budget       revenue      runtime   vote_count  \\\n",
       "count  2422.000000  2.422000e+03  2.422000e+03  2422.000000  2422.000000   \n",
       "mean      1.540916  4.874072e+07  1.683704e+08   112.114368   755.953344   \n",
       "std       1.723572  4.751692e+07  1.999982e+08    23.237805  1025.227287   \n",
       "min       0.010335  0.000000e+00  3.191160e+07    44.000000    10.000000   \n",
       "25%       0.679039  1.500000e+07  5.521068e+07    98.000000   171.000000   \n",
       "50%       1.098407  3.500000e+07  1.000000e+08   109.000000   376.500000   \n",
       "75%       1.809172  6.800000e+07  1.950922e+08   123.000000   878.250000   \n",
       "max      32.985763  3.800000e+08  2.781506e+09   705.000000  9767.000000   \n",
       "\n",
       "       vote_average  release_year    budget_adj   revenue_adj  \n",
       "count   2422.000000   2422.000000  2.422000e+03  2.422000e+03  \n",
       "mean       6.270851   2001.563584  5.653799e+07  2.135848e+08  \n",
       "std        0.748939     10.845803  4.954636e+07  2.435794e+08  \n",
       "min        3.400000   1960.000000  0.000000e+00  2.939349e+07  \n",
       "25%        5.800000   1996.000000  2.103337e+07  7.309216e+07  \n",
       "50%        6.300000   2004.000000  4.292901e+07  1.295371e+08  \n",
       "75%        6.800000   2010.000000  8.000000e+07  2.535754e+08  \n",
       "max        8.300000   2015.000000  3.683713e+08  2.827124e+09  "
      ]
     },
     "execution_count": 131,
     "metadata": {},
     "output_type": "execute_result"
    }
   ],
   "source": [
    "revenue_median = df.revenue.median()\n",
    "print(revenue_median)\n",
    "df_good = df.query('revenue >= {}'.format(revenue_median))\n",
    "df_bad = df.query('revenue < {}'.format(revenue_median))\n",
    "df_good.describe()"
   ]
  },
  {
   "cell_type": "code",
   "execution_count": 132,
   "metadata": {},
   "outputs": [
    {
     "data": {
      "text/html": [
       "<div>\n",
       "<style scoped>\n",
       "    .dataframe tbody tr th:only-of-type {\n",
       "        vertical-align: middle;\n",
       "    }\n",
       "\n",
       "    .dataframe tbody tr th {\n",
       "        vertical-align: top;\n",
       "    }\n",
       "\n",
       "    .dataframe thead th {\n",
       "        text-align: right;\n",
       "    }\n",
       "</style>\n",
       "<table border=\"1\" class=\"dataframe\">\n",
       "  <thead>\n",
       "    <tr style=\"text-align: right;\">\n",
       "      <th></th>\n",
       "      <th>popularity</th>\n",
       "      <th>budget</th>\n",
       "      <th>revenue</th>\n",
       "      <th>runtime</th>\n",
       "      <th>vote_count</th>\n",
       "      <th>vote_average</th>\n",
       "      <th>release_year</th>\n",
       "      <th>budget_adj</th>\n",
       "      <th>revenue_adj</th>\n",
       "    </tr>\n",
       "  </thead>\n",
       "  <tbody>\n",
       "    <tr>\n",
       "      <th>count</th>\n",
       "      <td>2422.000000</td>\n",
       "      <td>2.422000e+03</td>\n",
       "      <td>2.422000e+03</td>\n",
       "      <td>2422.000000</td>\n",
       "      <td>2422.000000</td>\n",
       "      <td>2422.000000</td>\n",
       "      <td>2422.000000</td>\n",
       "      <td>2.422000e+03</td>\n",
       "      <td>2.422000e+03</td>\n",
       "    </tr>\n",
       "    <tr>\n",
       "      <th>mean</th>\n",
       "      <td>0.551529</td>\n",
       "      <td>1.046690e+07</td>\n",
       "      <td>1.027270e+07</td>\n",
       "      <td>103.818332</td>\n",
       "      <td>117.500413</td>\n",
       "      <td>6.026796</td>\n",
       "      <td>2000.269199</td>\n",
       "      <td>1.386501e+07</td>\n",
       "      <td>1.683625e+07</td>\n",
       "    </tr>\n",
       "    <tr>\n",
       "      <th>std</th>\n",
       "      <td>0.473114</td>\n",
       "      <td>1.717359e+07</td>\n",
       "      <td>9.463977e+06</td>\n",
       "      <td>17.796918</td>\n",
       "      <td>216.990289</td>\n",
       "      <td>0.827239</td>\n",
       "      <td>12.222238</td>\n",
       "      <td>2.159786e+07</td>\n",
       "      <td>2.162388e+07</td>\n",
       "    </tr>\n",
       "    <tr>\n",
       "      <th>min</th>\n",
       "      <td>0.001117</td>\n",
       "      <td>0.000000e+00</td>\n",
       "      <td>2.000000e+00</td>\n",
       "      <td>15.000000</td>\n",
       "      <td>10.000000</td>\n",
       "      <td>2.100000</td>\n",
       "      <td>1960.000000</td>\n",
       "      <td>0.000000e+00</td>\n",
       "      <td>2.370705e+00</td>\n",
       "    </tr>\n",
       "    <tr>\n",
       "      <th>25%</th>\n",
       "      <td>0.277844</td>\n",
       "      <td>0.000000e+00</td>\n",
       "      <td>1.422789e+06</td>\n",
       "      <td>93.000000</td>\n",
       "      <td>25.000000</td>\n",
       "      <td>5.500000</td>\n",
       "      <td>1992.000000</td>\n",
       "      <td>0.000000e+00</td>\n",
       "      <td>1.681640e+06</td>\n",
       "    </tr>\n",
       "    <tr>\n",
       "      <th>50%</th>\n",
       "      <td>0.446494</td>\n",
       "      <td>4.000000e+06</td>\n",
       "      <td>7.768486e+06</td>\n",
       "      <td>101.000000</td>\n",
       "      <td>53.000000</td>\n",
       "      <td>6.100000</td>\n",
       "      <td>2004.000000</td>\n",
       "      <td>5.698390e+06</td>\n",
       "      <td>1.047514e+07</td>\n",
       "    </tr>\n",
       "    <tr>\n",
       "      <th>75%</th>\n",
       "      <td>0.682876</td>\n",
       "      <td>1.500000e+07</td>\n",
       "      <td>1.738486e+07</td>\n",
       "      <td>112.000000</td>\n",
       "      <td>128.000000</td>\n",
       "      <td>6.600000</td>\n",
       "      <td>2010.000000</td>\n",
       "      <td>2.002515e+07</td>\n",
       "      <td>2.440786e+07</td>\n",
       "    </tr>\n",
       "    <tr>\n",
       "      <th>max</th>\n",
       "      <td>7.192039</td>\n",
       "      <td>4.250000e+08</td>\n",
       "      <td>3.189900e+07</td>\n",
       "      <td>338.000000</td>\n",
       "      <td>5754.000000</td>\n",
       "      <td>8.400000</td>\n",
       "      <td>2015.000000</td>\n",
       "      <td>4.250000e+08</td>\n",
       "      <td>2.108215e+08</td>\n",
       "    </tr>\n",
       "  </tbody>\n",
       "</table>\n",
       "</div>"
      ],
      "text/plain": [
       "        popularity        budget       revenue      runtime   vote_count  \\\n",
       "count  2422.000000  2.422000e+03  2.422000e+03  2422.000000  2422.000000   \n",
       "mean      0.551529  1.046690e+07  1.027270e+07   103.818332   117.500413   \n",
       "std       0.473114  1.717359e+07  9.463977e+06    17.796918   216.990289   \n",
       "min       0.001117  0.000000e+00  2.000000e+00    15.000000    10.000000   \n",
       "25%       0.277844  0.000000e+00  1.422789e+06    93.000000    25.000000   \n",
       "50%       0.446494  4.000000e+06  7.768486e+06   101.000000    53.000000   \n",
       "75%       0.682876  1.500000e+07  1.738486e+07   112.000000   128.000000   \n",
       "max       7.192039  4.250000e+08  3.189900e+07   338.000000  5754.000000   \n",
       "\n",
       "       vote_average  release_year    budget_adj   revenue_adj  \n",
       "count   2422.000000   2422.000000  2.422000e+03  2.422000e+03  \n",
       "mean       6.026796   2000.269199  1.386501e+07  1.683625e+07  \n",
       "std        0.827239     12.222238  2.159786e+07  2.162388e+07  \n",
       "min        2.100000   1960.000000  0.000000e+00  2.370705e+00  \n",
       "25%        5.500000   1992.000000  0.000000e+00  1.681640e+06  \n",
       "50%        6.100000   2004.000000  5.698390e+06  1.047514e+07  \n",
       "75%        6.600000   2010.000000  2.002515e+07  2.440786e+07  \n",
       "max        8.400000   2015.000000  4.250000e+08  2.108215e+08  "
      ]
     },
     "execution_count": 132,
     "metadata": {},
     "output_type": "execute_result"
    }
   ],
   "source": [
    "df_bad.describe()"
   ]
  },
  {
   "cell_type": "code",
   "execution_count": 206,
   "metadata": {},
   "outputs": [
    {
     "data": {
      "text/plain": [
       "Text(0.5, 1.0, 'Good movies by release year')"
      ]
     },
     "execution_count": 206,
     "metadata": {},
     "output_type": "execute_result"
    },
    {
     "data": {
      "image/png": "[encoded data removed]",
      "text/plain": [
       "<Figure size 1080x504 with 1 Axes>"
      ]
     },
     "metadata": {
      "needs_background": "light"
     },
     "output_type": "display_data"
    }
   ],
   "source": [
    "plt.figure(figsize=(15,7))\n",
    "df_good.release_year.value_counts().sort_index(ascending=False).plot(kind='bar')\n",
    "plt.xlabel('Years')\n",
    "plt.ylabel('Number of movies')\n",
    "plt.title('Good movies by release year')"
   ]
  },
  {
   "cell_type": "code",
   "execution_count": 207,
   "metadata": {},
   "outputs": [
    {
     "data": {
      "text/plain": [
       "Text(0.5, 1.0, 'Bad movies by release year')"
      ]
     },
     "execution_count": 207,
     "metadata": {},
     "output_type": "execute_result"
    },
    {
     "data": {
      "image/png": "[encoded data removed]",
      "text/plain": [
       "<Figure size 1080x504 with 1 Axes>"
      ]
     },
     "metadata": {
      "needs_background": "light"
     },
     "output_type": "display_data"
    }
   ],
   "source": [
    "plt.figure(figsize=(15,7))\n",
    "df_bad.release_year.value_counts().sort_index(ascending=False).plot(kind='bar', color='red')\n",
    "plt.xlabel('Years')\n",
    "plt.ylabel('Number of movies')\n",
    "plt.title('Bad movies by release year')"
   ]
  },
  {
   "cell_type": "code",
   "execution_count": 168,
   "metadata": {},
   "outputs": [
    {
     "data": {
      "text/plain": [
       "Text(0.5, 1.0, 'Bad vs Good movies by release year')"
      ]
     },
     "execution_count": 168,
     "metadata": {},
     "output_type": "execute_result"
    },
    {
     "data": {
      "image/png": "[encoded data removed]",
      "text/plain": [
       "<Figure size 1080x504 with 1 Axes>"
      ]
     },
     "metadata": {
      "needs_background": "light"
     },
     "output_type": "display_data"
    }
   ],
   "source": [
    "plt.figure(figsize=(15,7))\n",
    "df_bad.release_year.value_counts().sort_index(ascending=False).plot(kind='bar', color='red', alpha=0.5, label='Bad')\n",
    "df_good.release_year.value_counts().sort_index(ascending=False).plot(kind='bar',alpha=0.5, label='Good')\n",
    "plt.legend()\n",
    "plt.xlabel('Years')\n",
    "plt.ylabel('Number of movies')\n",
    "plt.title('Bad vs Good movies by release year')"
   ]
  },
  {
   "cell_type": "markdown",
   "metadata": {},
   "source": [
    "- It seems from the 3 above distributions that good movies are alot more common in recent years as the distribution is skewed to the right alot more than the bad movies distribution which has a more even distribution across the 1980s. "
   ]
  },
  {
   "cell_type": "code",
   "execution_count": 183,
   "metadata": {},
   "outputs": [
    {
     "data": {
      "text/plain": [
       "Text(0, 0.5, 'Average Runtime')"
      ]
     },
     "execution_count": 183,
     "metadata": {},
     "output_type": "execute_result"
    },
    {
     "data": {
      "image/png": "[encoded data removed]",
      "text/plain": [
       "<Figure size 1080x504 with 1 Axes>"
      ]
     },
     "metadata": {
      "needs_background": "light"
     },
     "output_type": "display_data"
    }
   ],
   "source": [
    "plt.figure(figsize=(15,7))\n",
    "plt.bar(1,df_good.runtime.mean(), tick_label=['Good Movies']);\n",
    "plt.bar(2,df_bad.runtime.mean(), tick_label=['Bad Movies'], color='red');\n",
    "plt.title('Good movies vs Bad movies (Runtime)')\n",
    "plt.xlabel('Movies')\n",
    "plt.ylabel('Average Runtime')"
   ]
  },
  {
   "cell_type": "markdown",
   "metadata": {},
   "source": [
    "- It seems from the above visual that good movies have a higher average runtime than bad movies."
   ]
  },
  {
   "cell_type": "markdown",
   "metadata": {},
   "source": [
    "### Research Question 3: Are certain directors producing better movies than others?"
   ]
  },
  {
   "cell_type": "code",
   "execution_count": 194,
   "metadata": {},
   "outputs": [
    {
     "data": {
      "text/plain": [
       "Text(0, 0.5, 'Number of good movies')"
      ]
     },
     "execution_count": 194,
     "metadata": {},
     "output_type": "execute_result"
    },
    {
     "data": {
      "image/png": "[encoded data removed]",
      "text/plain": [
       "<Figure size 1080x504 with 1 Axes>"
      ]
     },
     "metadata": {
      "needs_background": "light"
     },
     "output_type": "display_data"
    }
   ],
   "source": [
    "plt.figure(figsize=(15,7))\n",
    "df_good.director.value_counts()[:50].plot(kind='bar')\n",
    "plt.title('Good movie distribution by Director')\n",
    "plt.xlabel('Director')\n",
    "plt.ylabel('Number of good movies')"
   ]
  },
  {
   "cell_type": "markdown",
   "metadata": {},
   "source": [
    "- The distribution is mostly skewed to the right and so yes there are directors who are performing alot better than the rest.\n",
    "- Most notably, Steven Spielberg seems to have quite the sharp increase: directing 25 good movies in comparison to the next entry at 20.\n",
    "- The distribution seems to be split into groups where a few directors all have the same number of directed movies. I'm not sure what this could mean."
   ]
  },
  {
   "cell_type": "markdown",
   "metadata": {},
   "source": [
    "<a id='conclusions'></a>\n",
    "## Conclusions\n"
   ]
  },
  {
   "cell_type": "markdown",
   "metadata": {},
   "source": [
    ">\n",
    ">* Drama and Comedy are the top 2 most common genres in this dataset.\n",
    ">* It seems that over-abundance of a genre in the movie pool leads to less average revenue for that genre. Exceptions >to this are genres with limited audiences.\n",
    ">* Vote averages of genres seem mostly similar except for a notable decrease in horror movies which might be due to the fact that horror movies are much more subject to criticism due to peoples' different fears and such.\n",
    ">* Popularity seems slightly positively correlated with revenue\n",
    ">* Good movies are alot more common in recent years.\n",
    ">* Good movies have a higher average runtime than bad movies.\n",
    ">* Some directors seem to be directing more good movies than others in the same time period. Notably, Steven Spielberg."
   ]
  },
  {
   "cell_type": "markdown",
   "metadata": {},
   "source": [
    "### Limitations"
   ]
  },
  {
   "cell_type": "markdown",
   "metadata": {
    "collapsed": true
   },
   "source": [
    "* Had to remove a large number of records in order to maintain consistency due to lack of revenue values"
   ]
  }
 ],
 "metadata": {
  "kernelspec": {
   "display_name": "Python 3",
   "language": "python",
   "name": "python3"
  },
  "language_info": {
   "codemirror_mode": {
    "name": "ipython",
    "version": 3
   },
   "file_extension": ".py",
   "mimetype": "text/x-python",
   "name": "python",
   "nbconvert_exporter": "python",
   "pygments_lexer": "ipython3",
   "version": "3.8.5"
  }
 },
 "nbformat": 4,
 "nbformat_minor": 2
}
